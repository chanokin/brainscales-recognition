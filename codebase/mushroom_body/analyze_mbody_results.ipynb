{
 "metadata": {
  "name": "",
  "signature": "sha256:3b7d32d52a208b8f657c5b3ed7414b2faf27f7712198db01f2e2ef833f782056"
 },
 "nbformat": 3,
 "nbformat_minor": 0,
 "worksheets": [
  {
   "cells": [
    {
     "cell_type": "code",
     "collapsed": false,
     "input": [
      "%matplotlib inline\n",
      "import numpy as np\n",
      "import matplotlib.pyplot as plt\n",
      "\n",
      "\n",
      "def plot_in_range(fig, ax, spikes, start_t, end_t, color='blue', markersize=1):\n",
      "    for i, times in enumerate(spikes):\n",
      "        times = np.array(times)\n",
      "        whr = np.where(np.logical_and(times >= start_t,  times <= end_t))[0].astype('int')\n",
      "        if len(whr):\n",
      "            plot_times = times[whr]\n",
      "            plt.plot(plot_times, i*np.ones_like(plot_times), '.', color=color, \n",
      "                     markersize=markersize, markeredgewidth=0)\n",
      "\n",
      "    "
     ],
     "language": "python",
     "metadata": {},
     "outputs": [],
     "prompt_number": 106
    },
    {
     "cell_type": "code",
     "collapsed": false,
     "input": [
      "fname = \"mbody-nKC=1000_nDN=100_probAL2KC=0p15_gScale=0p025_nAL=100_nPatternsAL=10_probAL=0p2_w2s=0p25_probNoiseSamplesAL=0p1_probKC2DN=0p2_nLH=20_inactiveScale=0p1_randomizeSamplesAL=True_nSamplesAL=1000_backend=genn\"\n",
      "fname = \"mbody-nKC=1000_nDN=100_probAL2KC=0p15_gScale=0p025_nAL=100_nPatternsAL=10_probAL=0p2_w2s=1p0_probNoiseSamplesAL=0p1_probKC2DN=0p2_nLH=20_inactiveScale=0p1_randomizeSamplesAL=True_nSamplesAL=1_backend=genn\"\n",
      "fname = \"mbody-nKC=1000_nDN=100_probAL2KC=0p15_gScale=0p025_nAL=100_nPatternsAL=10_probAL=0p2_w2s=0p5_probNoiseSamplesAL=0p1_probKC2DN=0p2_nLH=20_inactiveScale=0p1_randomizeSamplesAL=True_nSamplesAL=1000_backend=genn\"\n",
      "\n",
      "fname = \"mbody-experiment\"\n",
      "fname += \".npz\"\n"
     ],
     "language": "python",
     "metadata": {},
     "outputs": [],
     "prompt_number": 107
    },
    {
     "cell_type": "code",
     "collapsed": false,
     "input": [
      "data = np.load(fname)\n",
      "data.keys()"
     ],
     "language": "python",
     "metadata": {},
     "outputs": [
      {
       "metadata": {},
       "output_type": "pyout",
       "prompt_number": 108,
       "text": [
        "['output_start_connections',\n",
        " 'kenyon_spikes',\n",
        " 'stdp_params',\n",
        " 'static_weights',\n",
        " 'args',\n",
        " 'horn_spikes',\n",
        " 'input_vectors',\n",
        " 'sim_time',\n",
        " 'input_samples',\n",
        " 'neuron_parameters',\n",
        " 'decision_spikes',\n",
        " 'input_spikes',\n",
        " 'output_end_weights']"
       ]
      }
     ]
    },
    {
     "cell_type": "code",
     "collapsed": false,
     "input": [
      "out_spikes = data['decision_spikes']\n",
      "k_spikes = data['kenyon_spikes']\n",
      "h_spikes = data['horn_spikes']\n",
      "in_spikes = data['input_spikes']\n",
      "total_t = int(data['sim_time'])\n"
     ],
     "language": "python",
     "metadata": {},
     "outputs": []
    },
    {
     "cell_type": "markdown",
     "metadata": {},
     "source": [
      "Kenyon cell response - start\n",
      "---"
     ]
    },
    {
     "cell_type": "code",
     "collapsed": false,
     "input": [
      "# start_t = int(total_t*0.999)\n",
      "start_t = 0\n",
      "end_t = 1000\n",
      "print(start_t, total_t)\n",
      "fig = plt.figure(figsize=(15, 10))\n",
      "ax = plt.subplot(1, 1, 1)\n",
      "plot_in_range(fig, ax, in_spikes,  start_t=start_t, end_t=end_t, markersize=4, color='green')\n",
      "plot_in_range(fig, ax, k_spikes,  start_t=start_t, end_t=end_t, markersize=10, color='red')\n",
      "\n",
      "ax.set_ylabel('Neuron id')\n",
      "ax.set_xlabel('Time [ms]   (total={})'.format(total_t - start_t))\n",
      "ax.set_ylim(-1, 101)\n",
      "\n",
      "plt.show()"
     ],
     "language": "python",
     "metadata": {},
     "outputs": []
    },
    {
     "cell_type": "markdown",
     "metadata": {},
     "source": [
      "Horn spikes - start\n",
      "---"
     ]
    },
    {
     "cell_type": "code",
     "collapsed": false,
     "input": [
      "# start_t = int(total_t*0.999)\n",
      "start_t = 0\n",
      "end_t = 1000\n",
      "print(start_t, total_t)\n",
      "fig = plt.figure(figsize=(15, 10))\n",
      "ax = plt.subplot(1, 1, 1)\n",
      "plot_in_range(fig, ax, in_spikes,  start_t=start_t, end_t=end_t, markersize=4, color='green')\n",
      "plot_in_range(fig, ax, h_spikes,  start_t=start_t, end_t=end_t, markersize=10, color='red')\n",
      "\n",
      "ax.set_ylabel('Neuron id')\n",
      "ax.set_xlabel('Time [ms]   (total={})'.format(total_t - start_t))\n",
      "ax.set_ylim(-1, 101)\n",
      "\n",
      "plt.show()"
     ],
     "language": "python",
     "metadata": {},
     "outputs": []
    },
    {
     "cell_type": "markdown",
     "metadata": {},
     "source": [
      "Decision neurons - start\n",
      "---"
     ]
    },
    {
     "cell_type": "code",
     "collapsed": false,
     "input": [
      "# start_t = int(total_t*0.999)\n",
      "start_t = 0\n",
      "end_t = 1000\n",
      "print(start_t, total_t)\n",
      "fig = plt.figure(figsize=(15, 10))\n",
      "ax = plt.subplot(1, 1, 1)\n",
      "\n",
      "plot_in_range(fig, ax, in_spikes,  start_t=start_t, end_t=end_t, markersize=5, color='green')\n",
      "plot_in_range(fig, ax, out_spikes, start_t=start_t, end_t=end_t, markersize=5)\n",
      "\n",
      "\n",
      "ax.set_ylabel('Neuron id')\n",
      "ax.set_xlabel('Time [ms]   (total={})'.format(total_t - start_t))\n",
      "ax.set_ylim(-1, 101)\n",
      "\n",
      "plt.show()"
     ],
     "language": "python",
     "metadata": {},
     "outputs": []
    },
    {
     "cell_type": "markdown",
     "metadata": {},
     "source": [
      "Kenyon cells - end\n",
      "---"
     ]
    },
    {
     "cell_type": "code",
     "collapsed": false,
     "input": [
      "start_t = total_t - 1000\n",
      "end_t = total_t\n",
      "print(start_t, total_t)\n",
      "fig = plt.figure(figsize=(15, 10))\n",
      "ax = plt.subplot(1, 1, 1)\n",
      "plot_in_range(fig, ax, in_spikes,  start_t=start_t, end_t=end_t, markersize=4, color='green')\n",
      "plot_in_range(fig, ax, k_spikes,  start_t=start_t, end_t=end_t, markersize=10, color='red')\n",
      "\n",
      "ax.set_ylabel('Neuron id')\n",
      "ax.set_xlabel('Time [ms]   (total={})'.format(total_t - start_t))\n",
      "ax.set_ylim(-1, 101)\n",
      "\n",
      "plt.show()"
     ],
     "language": "python",
     "metadata": {},
     "outputs": []
    },
    {
     "cell_type": "markdown",
     "metadata": {},
     "source": [
      "Lateral Horn - end\n",
      "---"
     ]
    },
    {
     "cell_type": "code",
     "collapsed": false,
     "input": [
      "start_t = total_t - 1000\n",
      "end_t = total_t\n",
      "print(start_t, total_t)\n",
      "fig = plt.figure(figsize=(15, 10))\n",
      "ax = plt.subplot(1, 1, 1)\n",
      "plot_in_range(fig, ax, in_spikes,  start_t=start_t, end_t=end_t, markersize=4, color='green')\n",
      "plot_in_range(fig, ax, h_spikes,  start_t=start_t, end_t=end_t, markersize=10, color='red')\n",
      "\n",
      "ax.set_ylabel('Neuron id')\n",
      "ax.set_xlabel('Time [ms]   (total={})'.format(total_t - start_t))\n",
      "ax.set_ylim(-1, 101)\n",
      "\n",
      "plt.show()"
     ],
     "language": "python",
     "metadata": {},
     "outputs": []
    },
    {
     "cell_type": "markdown",
     "metadata": {},
     "source": [
      "Decision neurons - end\n",
      "---"
     ]
    },
    {
     "cell_type": "code",
     "collapsed": false,
     "input": [
      "# start_t = int(total_t*0.999)\n",
      "start_t = total_t - 1000\n",
      "print(start_t, total_t)\n",
      "fig = plt.figure(figsize=(15, 10))\n",
      "ax = plt.subplot(1, 1, 1)\n",
      "\n",
      "plot_in_range(fig, ax, in_spikes,  start_t=start_t, end_t=total_t, markersize=5, color='green')\n",
      "plot_in_range(fig, ax, out_spikes, start_t=start_t, end_t=total_t, markersize=5)\n",
      "\n",
      "\n",
      "ax.set_ylabel('Neuron id')\n",
      "ax.set_xlabel('Time [ms]   (total={})'.format(total_t - start_t))\n",
      "ax.set_ylim(-1, 101)\n",
      "\n",
      "plt.show()"
     ],
     "language": "python",
     "metadata": {},
     "outputs": []
    },
    {
     "cell_type": "code",
     "collapsed": false,
     "input": [
      "# start_t = int(total_t*0.999)\n",
      "start_t = 19000\n",
      "end_t = start_t + 1000\n",
      "print(start_t, total_t)\n",
      "fig = plt.figure(figsize=(15, 10))\n",
      "ax = plt.subplot(1, 1, 1)\n",
      "\n",
      "plot_in_range(fig, ax, in_spikes,  start_t=start_t, end_t=end_t, markersize=5, color='green')\n",
      "plot_in_range(fig, ax, out_spikes, start_t=start_t, end_t=end_t, markersize=5)\n",
      "\n",
      "\n",
      "ax.set_ylabel('Neuron id')\n",
      "ax.set_xlabel('Time [ms]   (total={})'.format(total_t - start_t))\n",
      "ax.set_ylim(-1, 101)\n",
      "\n",
      "plt.show()"
     ],
     "language": "python",
     "metadata": {},
     "outputs": []
    },
    {
     "cell_type": "code",
     "collapsed": false,
     "input": [
      "def pop_rate_per_second(spikes, total_t, dt):\n",
      "    n_neurons = len(spikes)\n",
      "    end = 0\n",
      "    rates = []\n",
      "    for start in range(0, total_t, dt):\n",
      "        end = start + dt\n",
      "        spike_count = 0\n",
      "        for times in spikes:\n",
      "            times = np.array(times)\n",
      "            whr = np.where(np.logical_and(times >= start, times < end))[0]\n",
      "            spike_count += len(whr)\n",
      "        rate = spike_count / 1000.\n",
      "        rates.append(rate)\n",
      "\n",
      "    return rates"
     ],
     "language": "python",
     "metadata": {},
     "outputs": []
    },
    {
     "cell_type": "code",
     "collapsed": false,
     "input": [
      "print(total_t)\n",
      "out_rates = pop_rate_per_second(out_spikes, total_t, 1000)"
     ],
     "language": "python",
     "metadata": {},
     "outputs": []
    },
    {
     "cell_type": "code",
     "collapsed": false,
     "input": [
      "print(out_rates)"
     ],
     "language": "python",
     "metadata": {},
     "outputs": []
    },
    {
     "cell_type": "code",
     "collapsed": false,
     "input": [
      "plt.figure(figsize=(15, 5))\n",
      "plt.plot(out_rates)\n",
      "plt.show()"
     ],
     "language": "python",
     "metadata": {},
     "outputs": []
    },
    {
     "cell_type": "code",
     "collapsed": false,
     "input": [],
     "language": "python",
     "metadata": {},
     "outputs": []
    }
   ],
   "metadata": {}
  }
 ]
}