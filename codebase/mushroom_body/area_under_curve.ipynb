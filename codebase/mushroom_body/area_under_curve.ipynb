{
 "metadata": {
  "name": "",
  "signature": "sha256:ae4048f2b57bc0e7958d2c6b25d169e10383189b26da5facb5d7fc83a90ea214"
 },
 "nbformat": 3,
 "nbformat_minor": 0,
 "worksheets": [
  {
   "cells": [
    {
     "cell_type": "code",
     "collapsed": false,
     "input": [
      "%matplotlib inline\n",
      "from __future__ import (print_function,\n",
      "                        unicode_literals,\n",
      "                        division)\n",
      "from future.builtins import str, open, range, dict\n",
      "import matplotlib\n",
      "from mpl_toolkits.axes_grid1 import make_axes_locatable\n",
      "import numpy as np\n",
      "import matplotlib.pyplot as plt\n",
      "from pprint import pprint\n",
      "import sys\n"
     ],
     "language": "python",
     "metadata": {},
     "outputs": [],
     "prompt_number": 2
    },
    {
     "cell_type": "code",
     "collapsed": false,
     "input": [
      "time_step = 1.0 #ms\n",
      "ts_to_ms = 1.0/time_step\n",
      "max_t = 50.0\n",
      "\n",
      "tau_plus = 5.0\n",
      "a_plus = 0.1\n",
      "x_plus = -np.arange(max_t)\n",
      "y_plus = a_plus * np.exp(x_plus/tau_plus)\n",
      "area_plus = np.trapz(y_plus)\n",
      "\n",
      "tau_minus = 15.0\n",
      "a_minus = 0.1\n",
      "x_minus = np.arange(max_t)\n",
      "y_minus = a_minus * np.exp(-x_minus/tau_minus)\n",
      "area_minus = np.trapz(y_minus)\n",
      "y_minus[:] = -y_minus\n",
      "\n",
      "plt.figure(figsize=(4.5, 3.5))\n",
      "ax = plt.subplot(1, 1, 1)\n",
      "# ax.set_title(area_minus/area_plus)\n",
      "plt.axvline(0, color='gray', linewidth=1.0)\n",
      "plt.axhline(0, color='gray', linewidth=1.0)\n",
      "plt.plot(x_plus, y_plus, color='#1f77b4', linewidth=3.0)\n",
      "plt.fill_between(x_plus, y_plus, color='#1f77b4', alpha=0.2, linewidth=0)\n",
      "plt.plot(x_minus, y_minus, color='crimson', linewidth=3.0)\n",
      "plt.fill_between(x_minus, y_minus, color='crimson', alpha=0.2, linewidth=0)\n",
      "\n",
      "# plt.text(-40, 0.01, area_plus)\n",
      "# plt.text(10, -0.01, area_minus)\n",
      "ax.margins(0.1, 0.1)\n",
      "ax.spines[\"top\"].set_visible(False)\n",
      "ax.spines[\"right\"].set_visible(False)\n",
      "ax.spines[\"bottom\"].set_visible(False)\n",
      "ax.spines[\"left\"].set_visible(False)\n",
      "ax.set_xlabel=(r'$\\Delta t$ [ms]')\n",
      "\n",
      "plt.tight_layout()\n",
      "plt.savefig('stdp_curve.pdf')\n",
      "\n",
      "plt.show()\n"
     ],
     "language": "python",
     "metadata": {},
     "outputs": [
      {
       "metadata": {},
       "output_type": "display_data",
       "png": "[encoded data removed]",
       "text": [
        "<Figure size 450x350 with 1 Axes>"
       ]
      }
     ],
     "prompt_number": 86
    },
    {
     "cell_type": "code",
     "collapsed": false,
     "input": [
      "import unicodedata\n",
      "\n",
      "blue = unicodedata.normalize('NFKD', '#1f77b4').encode('ascii','ignore')\n",
      "print(blue, type(blue))\n",
      "time_step = 1.0 #ms\n",
      "ts_to_ms = 1.0/time_step\n",
      "max_t = 50.0\n",
      "\n",
      "tau_plus = 5.0\n",
      "a_plus = 0.1\n",
      "x_plus = -np.arange(max_t-20)\n",
      "y_plus = a_plus * np.exp(x_plus/tau_plus)\n",
      "area_plus = np.trapz(y_plus)\n",
      "\n",
      "tau_minus = 15.0\n",
      "a_minus = 0.1\n",
      "x_minus = np.arange(max_t)\n",
      "y_minus = a_minus * np.exp(-x_minus/tau_minus)\n",
      "area_minus = np.trapz(y_minus)\n",
      "y_minus[:] = -y_minus\n",
      "\n",
      "plt.figure(figsize=(7, 3.5))\n",
      "ax = plt.subplot(1, 1, 1)\n",
      "# ax.set_title(area_minus/area_plus)\n",
      "plt.axvspan(0, 50, color='gray', alpha=0.1, linewidth=0)\n",
      "plt.axvline(0, color='gray', linewidth=1.0)\n",
      "plt.axhline(0, color='gray', linewidth=1.0)\n",
      "plt.plot(x_plus, y_plus, color='#1f77b4', linewidth=3.0)\n",
      "plt.fill_between(x_plus, y_plus, color='#1f77b4', alpha=0.2, linewidth=0)\n",
      "plt.plot(x_minus, y_minus, color='crimson', linewidth=3.0, linestyle=':')\n",
      "dt = 40\n",
      "plt.plot(x_plus + dt, y_plus, color='#1f77b4', linewidth=3.0, linestyle=':')\n",
      "plt.plot((x_minus + dt)[:10], y_minus[:10], color='crimson', linewidth=3.0, linestyle=':')\n",
      "plt.plot((x_minus + dt)[10:], y_minus[10:], color='crimson', linewidth=3.0)\n",
      "plt.fill_between((x_minus + dt)[10:], y_minus[10:], color='crimson', alpha=0.2, linewidth=0)\n",
      "plt.axvline(dt, color='gray', linewidth=2.0, linestyle=':')\n",
      "# plt.text(-40, 0.01, area_plus)\n",
      "# plt.text(10, -0.01, area_minus)\n",
      "ax.margins(0.1, 0.1)\n",
      "ax.set_xlabel(r'$\\Delta t[ms]$')\n",
      "ax.set_ylabel(r'$\\Delta w$')\n",
      "ax.spines[\"top\"].set_visible(False)\n",
      "ax.spines[\"right\"].set_visible(False)\n",
      "ax.spines[\"bottom\"].set_visible(False)\n",
      "ax.spines[\"left\"].set_visible(False)\n",
      "\n",
      "\n",
      "plt.tight_layout()\n",
      "plt.savefig('stdp_curve_extended.pdf')\n",
      "\n",
      "plt.show()\n"
     ],
     "language": "python",
     "metadata": {},
     "outputs": [
      {
       "output_type": "stream",
       "stream": "stdout",
       "text": [
        "#1f77b4 <type 'str'>\n"
       ]
      },
      {
       "metadata": {},
       "output_type": "display_data",
       "png": "[encoded data removed]",
       "text": [
        "<Figure size 700x350 with 1 Axes>"
       ]
      }
     ],
     "prompt_number": 84
    },
    {
     "cell_type": "code",
     "collapsed": false,
     "input": [],
     "language": "python",
     "metadata": {},
     "outputs": []
    }
   ],
   "metadata": {}
  }
 ]
}