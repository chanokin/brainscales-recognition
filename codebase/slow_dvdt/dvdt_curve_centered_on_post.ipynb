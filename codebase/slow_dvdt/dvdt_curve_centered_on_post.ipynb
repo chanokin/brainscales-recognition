{
 "metadata": {
  "name": "",
  "signature": "sha256:d2dab953c4fbd9ad55d1f45c4415544f0659742854d51382c7ac8f7622098766"
 },
 "nbformat": 3,
 "nbformat_minor": 0,
 "worksheets": [
  {
   "cells": [
    {
     "cell_type": "code",
     "collapsed": false,
     "input": [
      "%matplotlib inline\n",
      "from __future__ import (print_function,\n",
      "                        unicode_literals,\n",
      "                        division)\n",
      "from future.builtins import str, open, range, dict\n",
      "import matplotlib\n",
      "from mpl_toolkits.axes_grid1 import make_axes_locatable\n",
      "import numpy as np\n",
      "import matplotlib.pyplot as plt\n",
      "from pprint import pprint\n",
      "import sys\n",
      "from matplotlib import gridspec\n",
      "\n",
      "def assemble_dvdt(pre_spikes, post_spikes, post_dvdt, max_dt, timestep, decimals):\n",
      "    dtdv = {np.around(dt, decimals=decimals): [] \\\n",
      "            for dt in np.arange(-max_dt, max_dt + timestep, timestep)}\n",
      "    n_neurons = len(pre_spikes)\n",
      "    for nid in range(n_neurons):\n",
      "        posts = post_spikes[nid]\n",
      "        if len(posts) > 1:\n",
      "            continue\n",
      "\n",
      "        pres = pre_spikes[nid]\n",
      "        dvdt = post_dvdt[nid]\n",
      "        \n",
      "        for post_t in posts:\n",
      "            post_t = float(post_t)\n",
      "            whr = np.where(np.logical_and(\n",
      "                    (post_t - max_dt) <= pres, pres < (post_t + max_dt)))\n",
      "            if len(whr[0]):\n",
      "                pre_ts = np.array([float(ttt) for ttt in pres[whr]])\n",
      "                pre_loc = (pre_ts / timestep).astype('int')\n",
      "                dvs = dvdt[pre_loc]\n",
      "                dts = np.around(pre_ts - post_t, decimals=decimals)\n",
      "\n",
      "                for i in range(len(dvs)):\n",
      "                    dtdv[dts[i]].append(dvs[i])\n",
      "        \n",
      "    return dtdv\n",
      "\n",
      "def average_dtdv(dtdv):\n",
      "    avg = {}\n",
      "    for dt in dtdv:\n",
      "        avg[dt] = np.mean(dtdv[dt])\n",
      "    return avg\n"
     ],
     "language": "python",
     "metadata": {},
     "outputs": [],
     "prompt_number": 113
    },
    {
     "cell_type": "code",
     "collapsed": false,
     "input": [],
     "language": "python",
     "metadata": {},
     "outputs": [],
     "prompt_number": 104
    },
    {
     "cell_type": "code",
     "collapsed": false,
     "input": [
      "data = np.load('plasticity_curve_data.npz')\n",
      "timestep = data['timestep']\n",
      "runtime = data['runtime']\n",
      "size_time = int(runtime/timestep)\n",
      "max_dt = 40.0\n",
      "print(timestep, runtime, size_time)\n",
      "\n",
      "\n",
      "post = data['post_data'].item()\n",
      "pre = data['input_data'].item()\n",
      "\n",
      "pre_spikes = pre.segments[0].spiketrains\n",
      "post_spikes = post.segments[0].spiketrains\n",
      "for arr in post.segments[0].analogsignals:\n",
      "    if arr.name == 'dvdt':\n",
      "        post_dvdt = arr.T\n",
      "\n",
      "        \n",
      "dtdv = assemble_dvdt(pre_spikes, post_spikes, post_dvdt, max_dt, timestep, 1)\n",
      "avg_dtdv = average_dtdv(dtdv)\n",
      "\n",
      "# print(avg_dtdv)"
     ],
     "language": "python",
     "metadata": {},
     "outputs": [
      {
       "output_type": "stream",
       "stream": "stdout",
       "text": [
        "0.1 200.0 2000\n"
       ]
      }
     ],
     "prompt_number": 181
    },
    {
     "cell_type": "code",
     "collapsed": false,
     "input": [
      "vals = np.array(avg_dtdv.values())\n",
      "vals[np.isnan(vals)] = 0.0\n",
      "max_dv = np.max(np.abs(vals))\n",
      "plt.figure(figsize=(8, 5))\n",
      "ax = plt.subplot(1, 1, 1)\n",
      "plt.axvline(0, color='gray')\n",
      "plt.axhline(0, color='gray')\n",
      "for dt in avg_dtdv:\n",
      "    if np.isnan(avg_dtdv[dt]):\n",
      "        print(dt)\n",
      "        continue\n",
      "    plt.plot(dt, avg_dtdv[dt], '.b', alpha=0.2)\n",
      "\n",
      "ax.set_ylim(-max_dv*1.1, max_dv*1.1)\n",
      "\n",
      "ax.set_xlabel('$\\Delta t [t_{post} - t_{pre}, ms]$', fontsize=16)\n",
      "ax.set_ylabel('$\\Delta w$', fontsize=16)\n",
      "\n",
      "# dts = sorted(avg_dtdv.keys())\n",
      "# avgs = []\n",
      "# for dt in dts:\n",
      "#     avgs.append(avg_dtdv[dt])\n",
      "# plt.plot(dts, avgs, 'r')\n",
      "plt.show()"
     ],
     "language": "python",
     "metadata": {},
     "outputs": [
      {
       "output_type": "stream",
       "stream": "stdout",
       "text": [
        "40.0\n"
       ]
      },
      {
       "metadata": {},
       "output_type": "display_data",
       "png": "[encoded data removed]",
       "text": [
        "<Figure size 800x500 with 1 Axes>"
       ]
      }
     ],
     "prompt_number": 196
    },
    {
     "cell_type": "code",
     "collapsed": false,
     "input": [],
     "language": "python",
     "metadata": {},
     "outputs": [],
     "prompt_number": 107
    },
    {
     "cell_type": "code",
     "collapsed": false,
     "input": [],
     "language": "python",
     "metadata": {},
     "outputs": [],
     "prompt_number": 108
    },
    {
     "cell_type": "code",
     "collapsed": false,
     "input": [],
     "language": "python",
     "metadata": {},
     "outputs": [],
     "prompt_number": 112
    }
   ],
   "metadata": {}
  }
 ]
}