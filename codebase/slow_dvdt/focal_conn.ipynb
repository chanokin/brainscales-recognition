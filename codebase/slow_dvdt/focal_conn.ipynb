{
 "metadata": {
  "name": "",
  "signature": "sha256:8463f88ce99cb51e668718f3107f7ae9a2973425fb52090df4db698f57140b34"
 },
 "nbformat": 3,
 "nbformat_minor": 0,
 "worksheets": [
  {
   "cells": [
    {
     "cell_type": "code",
     "collapsed": false,
     "input": [
      "%matplotlib inline\n",
      "from __future__ import (print_function,\n",
      "                        unicode_literals,\n",
      "                        division)\n",
      "from future.builtins import str, open, range, dict\n",
      "import matplotlib\n",
      "from mpl_toolkits.axes_grid1 import make_axes_locatable\n",
      "import numpy as np\n",
      "import matplotlib.pyplot as plt\n",
      "from pprint import pprint\n",
      "import sys\n",
      "import os\n",
      "from matplotlib import gridspec"
     ],
     "language": "python",
     "metadata": {},
     "outputs": [],
     "prompt_number": 4
    },
    {
     "cell_type": "code",
     "collapsed": false,
     "input": [
      "mnist_spikes = \"/home/gp283/brainscales-recognition/codebase/NE15/mnist-db/spikes/\"\n",
      "# dset = \"t10k\"\n",
      "dset = \"train\"\n",
      "\n",
      "# digit = \"0\"\n",
      "# fspike = \"image__idx_000169__lbl_00_\"\n",
      "\n",
      "# digit = \"1\"\n",
      "# fspike = \"image__idx_000174__lbl_01_\"\n",
      "\n",
      "# digit = \"8\"\n",
      "# fspike = \"image__idx_000046__lbl_08_\"\n",
      "\n",
      "# digit = \"5\"\n",
      "# fspike = \"image__idx_000175__lbl_05_\"\n",
      "\n",
      "digit = \"7\"\n",
      "fspike = \"image__idx_000230__lbl_07_\"\n",
      "\n",
      "fspike += \".npz\"\n",
      "filename = os.path.join(mnist_spikes, dset, digit, fspike)\n",
      "\n",
      "data = np.load(filename)"
     ],
     "language": "python",
     "metadata": {},
     "outputs": [],
     "prompt_number": 122
    },
    {
     "cell_type": "code",
     "collapsed": false,
     "input": [
      "pprint(data.keys())"
     ],
     "language": "python",
     "metadata": {},
     "outputs": [
      {
       "output_type": "stream",
       "stream": "stdout",
       "text": [
        "['spikes', 'idx', 'label']\n"
       ]
      }
     ],
     "prompt_number": 123
    },
    {
     "cell_type": "code",
     "collapsed": false,
     "input": [
      "spks = data['spikes']\n",
      "idx = data['idx']\n",
      "label = data['label']"
     ],
     "language": "python",
     "metadata": {},
     "outputs": [],
     "prompt_number": 124
    },
    {
     "cell_type": "code",
     "collapsed": false,
     "input": [
      "pprint(spks)"
     ],
     "language": "python",
     "metadata": {},
     "outputs": [
      {
       "output_type": "stream",
       "stream": "stdout",
       "text": [
        "array([[], [], [], ..., [], [], []], dtype=object)\n"
       ]
      }
     ],
     "prompt_number": 125
    },
    {
     "cell_type": "code",
     "collapsed": false,
     "input": [
      "pprint(spks.shape)"
     ],
     "language": "python",
     "metadata": {},
     "outputs": [
      {
       "output_type": "stream",
       "stream": "stdout",
       "text": [
        "(3136,)\n"
       ]
      }
     ],
     "prompt_number": 126
    },
    {
     "cell_type": "code",
     "collapsed": false,
     "input": [],
     "language": "python",
     "metadata": {},
     "outputs": [],
     "prompt_number": 126
    },
    {
     "cell_type": "code",
     "collapsed": false,
     "input": [
      "def to_post(v, p, s, k):\n",
      "    return ((v - k + 2*p) // s) + 1\n",
      "\n",
      "\n",
      "def kernel_pre_post_pairs(pre_shape, pad, stride, kernel_shape):\n",
      "    post_shape = to_post(np.array(pre_shape), pad, stride, np.array(kernel_shape))\n",
      "    hk = np.array(kernel_shape) // 2\n",
      "\n",
      "    pairs = []\n",
      "    for _r in range(pad, pre_shape[HEIGHT], stride):\n",
      "        for _c in range(pad, pre_shape[WIDTH], stride):\n",
      "            post_r = to_post(_r, pad, stride, np.array(kernel_shape[HEIGHT])) - 1\n",
      "            post_c = to_post(_c, pad, stride, np.array(kernel_shape[WIDTH])) - 1\n",
      "            for k_r in range(-hk[HEIGHT], hk[HEIGHT]+1, 1):\n",
      "                for k_c in range(-hk[WIDTH], hk[WIDTH]+1, 1):\n",
      "                    pre_r, pre_c = _r + k_r, _c + k_c\n",
      "                    if pre_r < 0 or pre_c < 0 or \\\n",
      "                        pre_r >= pre_shape[HEIGHT] or \\\n",
      "                        pre_c >= pre_shape[WIDTH]:\n",
      "                        continue\n",
      "\n",
      "#                     print(\"%s <=> %s:%s\"%( (pre_r, pre_c), (_r, _c), (post_r, post_c) ))\n",
      "                    pre_id = pre_r * pre_shape[WIDTH] + pre_c\n",
      "                    post_id = post_r * post_shape[WIDTH] + post_c\n",
      "                    pairs.append([pre_id, post_id])\n",
      "\n",
      "    return np.array(pairs)\n",
      "\n",
      "size_per_type = spks.shape[0]//4\n",
      "width = int(np.sqrt(size_per_type))\n",
      "height = (size_per_type//width)\n",
      "\n",
      "pprint((size_per_type, width, height))\n",
      "WIDTH, HEIGHT = 0, 1\n",
      "pre_shape = [height, width]\n",
      "k_shape = [9, 9]\n",
      "pad = int(k_shape[0]//2) - 1\n",
      "stride = 5\n",
      "pairs = kernel_pre_post_pairs(pre_shape, pad, stride, k_shape)"
     ],
     "language": "python",
     "metadata": {},
     "outputs": [
      {
       "output_type": "stream",
       "stream": "stdout",
       "text": [
        "(784, 28, 28)\n"
       ]
      }
     ],
     "prompt_number": 167
    },
    {
     "cell_type": "code",
     "collapsed": false,
     "input": [
      "def prob_conn_from_list(pre_post_pairs, n_per_post, probability, weight, delay, weight_off_mult=None):\n",
      "    posts = np.unique(pre_post_pairs[:, 1])\n",
      "    conns = []\n",
      "    for post_base in posts:\n",
      "        pres = pre_post_pairs[np.where(pre_post_pairs[:, 1] == post_base)]\n",
      "        for i in range(n_per_post):\n",
      "            for pre in pres:\n",
      "                if np.random.uniform <= probability:\n",
      "                    post = post_base * n_per_post + i\n",
      "                    conns.append([pre, post, weight, delay])\n",
      "                else:    \n",
      "                    if weight_off_mult is None:\n",
      "                        continue\n",
      "\n",
      "                    post = post_base * n_per_post + i\n",
      "                    conns.append([pre, post, weight*weight_off_mult, delay])\n",
      "\n",
      "    return np.array(conns)\n",
      "\n",
      "n_per_post = 100\n",
      "prob = 0.1\n",
      "weight = 1.0\n",
      "delay = 1.0\n",
      "weight_off_mult = 0.1\n",
      "conns = prob_conn_from_list(pairs, n_per_post, prob, weight, delay, weight_off_mult)"
     ],
     "language": "python",
     "metadata": {},
     "outputs": [],
     "prompt_number": 168
    },
    {
     "cell_type": "code",
     "collapsed": false,
     "input": [
      "def split_spikes(spikes, n_types):\n",
      "    spikes_out = [[] for _ in range(n_types)]\n",
      "    n_per_type = spikes.shape[0] // n_types\n",
      "    for type_idx in range(n_types):\n",
      "        for nidx in range(n_per_type):\n",
      "            spikes_out[type_idx].append(spikes[type_idx * n_per_type + nidx])\n",
      "    return spikes_out\n",
      "\n",
      "n_types = 4\n",
      "new_spikes = split_spikes(spks, n_types)"
     ],
     "language": "python",
     "metadata": {},
     "outputs": [],
     "prompt_number": 169
    },
    {
     "cell_type": "code",
     "collapsed": false,
     "input": [
      "markers = ['o', '+', 'v', 's']\n",
      "colors = ['blue', 'red', 'green', 'black']\n",
      "firsts = [True] * 4\n",
      "fig = plt.figure(figsize=(20, 10))\n",
      "ax = plt.subplot(1, 2, 1)\n",
      "ax.set_title(\"Original positions\")\n",
      "hk = k_shape[0]//2\n",
      "for x in range(pad, width, stride):\n",
      "    lx = max(0, x - hk)\n",
      "    rx = min(27, x + hk)\n",
      "    plt.axvline(lx, color='blue', linewidth=0.1)\n",
      "    plt.axvline(rx, color='cyan', linewidth=0.1)\n",
      "\n",
      "for y in range(pad, height, stride):\n",
      "    ty = max(0, y - hk)\n",
      "    by = min(27, y + hk)\n",
      "    plt.axhline(ty, color='blue', linewidth=0.1)\n",
      "    plt.axhline(by, color='cyan', linewidth=0.1)\n",
      "\n",
      "for x in range(pad, width, stride):\n",
      "    for y in range(pad, height, stride):\n",
      "        plt.plot(x, y, 'xk', alpha=0.3)\n",
      "\n",
      "for type_idx in range(n_types):\n",
      "    for nid, ts in enumerate(new_spikes[type_idx]):\n",
      "        if len(ts) == 0:\n",
      "            continue\n",
      "        row = nid // 28\n",
      "        col = nid % 28\n",
      "        \n",
      "        label = \"%d\"%(type_idx + 1) if firsts[type_idx] else None\n",
      "        firsts[type_idx] = False\n",
      "        plt.plot(col, row, color=colors[type_idx], label=label,\n",
      "                 marker=markers[type_idx], markerfacecolor='none',\n",
      "                 linestyle='none')\n",
      "        \n",
      "ax.legend()\n",
      "ax.set_xlim(-1, 28)\n",
      "ax.set_ylim(28, -1)\n",
      "\n",
      "firsts = [True] * 4\n",
      "ax = plt.subplot(1, 2, 2)\n",
      "ax.set_title(\"Reduced types 3 and 4 positions\")\n",
      "hk = k_shape[0]//2\n",
      "for x in range(pad, width, stride):\n",
      "    lx = max(0, x - hk)\n",
      "    rx = min(27, x + hk)\n",
      "    plt.axvline(lx, color='blue', linewidth=0.1)\n",
      "    plt.axvline(rx, color='cyan', linewidth=0.1)\n",
      "\n",
      "for y in range(pad, height, stride):\n",
      "    ty = max(0, y - hk)\n",
      "    by = min(27, y + hk)\n",
      "    plt.axhline(ty, color='blue', linewidth=0.1)\n",
      "    plt.axhline(by, color='cyan', linewidth=0.1)\n",
      "\n",
      "for x in range(pad, width, stride):\n",
      "    for y in range(pad, height, stride):\n",
      "        plt.plot(x, y, 'xk', alpha=0.3)\n",
      "\n",
      "for type_idx in range(n_types//2):\n",
      "    for nid, ts in enumerate(new_spikes[type_idx]):\n",
      "        if len(ts) == 0:\n",
      "            continue\n",
      "        row = nid // 28\n",
      "        col = nid % 28\n",
      "        \n",
      "        label = \"%d\"%(type_idx + 1) if firsts[type_idx] else None\n",
      "        firsts[type_idx] = False\n",
      "        plt.plot(col, row, color=colors[type_idx], label=label,\n",
      "                 marker=markers[type_idx], markerfacecolor='none',\n",
      "                 linestyle='none')\n",
      "        \n",
      "for type_idx in range(n_types//2, n_types):\n",
      "    for nid, ts in enumerate(new_spikes[type_idx]):\n",
      "        if len(ts) == 0:\n",
      "            continue\n",
      "        row = (28 // 4) + ((nid // 28)//2)\n",
      "        col = (28 // 4) + ((nid % 28)//2)\n",
      "        \n",
      "        label = \"%d\"%(type_idx + 1) if firsts[type_idx] else None\n",
      "        firsts[type_idx] = False\n",
      "        plt.plot(col, row, color=colors[type_idx], label=label,\n",
      "                 marker=markers[type_idx], markerfacecolor='none',\n",
      "                 linestyle='none')\n",
      "\n",
      "\n",
      "ax.legend()\n",
      "ax.set_xlim(-1, 28)\n",
      "ax.set_ylim(28, -1)\n",
      "plt.show()"
     ],
     "language": "python",
     "metadata": {},
     "outputs": [
      {
       "metadata": {},
       "output_type": "display_data",
       "png": "[encoded data removed]",
       "text": [
        "<Figure size 2000x1000 with 2 Axes>"
       ]
      }
     ],
     "prompt_number": 170
    },
    {
     "cell_type": "code",
     "collapsed": false,
     "input": [],
     "language": "python",
     "metadata": {},
     "outputs": [],
     "prompt_number": 166
    },
    {
     "cell_type": "code",
     "collapsed": false,
     "input": [],
     "language": "python",
     "metadata": {},
     "outputs": [],
     "prompt_number": 146
    },
    {
     "cell_type": "code",
     "collapsed": false,
     "input": [],
     "language": "python",
     "metadata": {},
     "outputs": [],
     "prompt_number": 146
    },
    {
     "cell_type": "code",
     "collapsed": false,
     "input": [],
     "language": "python",
     "metadata": {},
     "outputs": [],
     "prompt_number": 142
    },
    {
     "cell_type": "code",
     "collapsed": false,
     "input": [],
     "language": "python",
     "metadata": {},
     "outputs": []
    },
    {
     "cell_type": "markdown",
     "metadata": {},
     "source": [
      "* Del Toro (fantasy/horror):\n",
      "    * Chronos\n",
      "    * Pan's Labyrinth\n",
      "        * (not so 'mexican' bellow)\n",
      "    * The Shape of Water\n",
      "    * The Book of Life\n",
      "\n",
      "* Cuar\u00f3n:\n",
      "    * Y Tu Mam\u00e1 Tambi\u00e9n\n",
      "    * Roma\n",
      "        * (not so 'mexican' bellow)\n",
      "    * A Little Princess\n",
      "    * Children of Men\n",
      "\n",
      "* I\u00f1\u00e1rritu:\n",
      "    * Amores Perros\n",
      "        * (not so 'mexican' bellow)\n",
      "    * Birdman\n",
      "    * The Revenant\n",
      "\n",
      "* Reygadas (these are artsy):\n",
      "    * Silent Light\n",
      "    * Post Tenebras Lux\n",
      "\n",
      "* Arau:\n",
      "    * Like Water for Chocolate\n",
      "    * A Walk in The Clouds\n",
      "\n",
      "* Arriaga:\n",
      "    * The Three Burials of Melquiades Estrada\n",
      "\n",
      "* Estrada (dark humour):\n",
      "    * Herod's Law\n",
      "    * A Wonderful World\n",
      "\n",
      "* Ruispalacios:\n",
      "    * Museo\n",
      "\n",
      "* Safa:\n",
      "    * Jeremy\n",
      "    \n",
      "* About Mexican Culture:\n",
      "    * Coco\n",
      "    \n",
      "* Super old stuff (hard to come by):\n",
      "    * Gavald\u00f3n:\n",
      "        * Macario\n",
      "    * Cantinflas (comedy):\n",
      "        * Here's the Point \n",
      "        * The Atomic Firefighter\n",
      "        * A Day With the Devil\n",
      "        * The Unknown Policeman\n",
      "    * Gonz\u00e1lez (comedy/mexican curious):\n",
      "        * The Ship of Monsters\n",
      "    * Blake (mexican curious):\n",
      "        * Santo vs Vampire Women\n",
      "    * Estrada (comedy/mexican curious):\n",
      "        * Chabelo and Pepito vs The Monsters"
     ]
    },
    {
     "cell_type": "code",
     "collapsed": false,
     "input": [],
     "language": "python",
     "metadata": {},
     "outputs": [],
     "prompt_number": 97
    },
    {
     "cell_type": "code",
     "collapsed": false,
     "input": [],
     "language": "python",
     "metadata": {},
     "outputs": []
    }
   ],
   "metadata": {}
  }
 ]
}