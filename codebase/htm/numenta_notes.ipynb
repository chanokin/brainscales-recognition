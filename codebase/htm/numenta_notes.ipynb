{
 "metadata": {
  "name": "",
  "signature": "sha256:eadb58479a0ed9a977d32383fd5ff78b13c107ac84715c65d00024ea931b599b"
 },
 "nbformat": 3,
 "nbformat_minor": 0,
 "worksheets": [
  {
   "cells": [
    {
     "cell_type": "code",
     "collapsed": false,
     "input": [
      "%matplotlib inline\n",
      "from __future__ import (print_function,\n",
      "                        unicode_literals,\n",
      "                        division)\n",
      "from future.builtins import str, open, range, dict\n",
      "import matplotlib\n",
      "from mpl_toolkits.axes_grid1 import make_axes_locatable\n",
      "import numpy as np\n",
      "import matplotlib.pyplot as plt\n",
      "from pprint import pprint\n",
      "import sys\n",
      "from matplotlib import gridspec\n",
      "\n"
     ],
     "language": "python",
     "metadata": {},
     "outputs": [],
     "prompt_number": 27
    },
    {
     "cell_type": "code",
     "collapsed": false,
     "input": [
      "\n",
      "class Cell(object):\n",
      "    _def_syn_cfg = dict(max_life=100, conn_thr=80, death_thr=40, \n",
      "                        death_prob=0.5, birth_prob=0.05)\n",
      "\n",
      "    def __init__(self, cell_id, col_id, layer_id, num_in_ff, num_in_fb, thresh, \n",
      "                 syn_config=_def_syn_cfg, random_active=0):\n",
      "        self._id = cell_id\n",
      "        self._col_id = col_id\n",
      "        self._lyr_id = layer_id\n",
      "        \n",
      "        self._syn_cfg = syn_config\n",
      "        self._thr = np.round(num_in_ff * np.random.normal(thresh, thresh*0.1))\n",
      "        self._ff_syn = np.random.choice(\n",
      "            np.arange(num_in_ff), size=int(thresh * num_in_ff), replace=False)\n",
      "        self._ff_syn_life = np.random.randint(\n",
      "            syn_config['death_thr'], syn_config['max_life'], size=self._ff_syn.size)\n",
      "        self.overlap = 0\n",
      "        self.boost = 1.0\n",
      "        self.update_conn_dead()\n",
      "\n",
      "    def parse_input(self, in_v):\n",
      "        self._ff_inter = np.intersect1d(self._ff_syn[conn], in_v)\n",
      "        self._ff_diff = np.setdiff1d(self._ff_syn, self._ff_inter)\n",
      "        self.overlap = np._ff_inter.size * self.boost\n",
      "    \n",
      "    def update_syns(self):\n",
      "        pass\n",
      "    \n",
      "    def update_conn_dead(self):\n",
      "        self._conn = np.where(self._ff_syn_life >= self._syn_cfg['conn_thr'])\n",
      "        self._dead = self._conn = np.where(self._ff_syn_life < self._syn_cfg['death_thr'])\n",
      "        \n",
      "    def update(self, in_v):\n",
      "        self.parse_input(in_v)\n",
      "        \n",
      "        \n",
      "        "
     ],
     "language": "python",
     "metadata": {},
     "outputs": [],
     "prompt_number": 1014
    },
    {
     "cell_type": "code",
     "collapsed": false,
     "input": [
      "class Column(object):\n",
      "    pass"
     ],
     "language": "python",
     "metadata": {},
     "outputs": [],
     "prompt_number": 1
    },
    {
     "cell_type": "code",
     "collapsed": false,
     "input": [
      "class Layer(object):\n",
      "    pass"
     ],
     "language": "python",
     "metadata": {},
     "outputs": [],
     "prompt_number": 2
    },
    {
     "cell_type": "code",
     "collapsed": false,
     "input": [
      "n_ff = 2**10\n",
      "n_fb = 2**10\n",
      "thr = 0.05\n",
      "n_cells = 2**5"
     ],
     "language": "python",
     "metadata": {},
     "outputs": [],
     "prompt_number": 1026
    },
    {
     "cell_type": "code",
     "collapsed": false,
     "input": [
      "# cell = Cell(0, 0, 0, n_ff, n_fb, thr)"
     ],
     "language": "python",
     "metadata": {},
     "outputs": [],
     "prompt_number": 1027
    },
    {
     "cell_type": "code",
     "collapsed": false,
     "input": [
      "# pre_out = np.random.choice(np.arange(2**10), size=int(n_ff * thr * 10.0), replace=False)\n",
      "\n",
      "# # print(in_v)\n",
      "# # print(post_in_v[0])\n",
      "# print(cell.ff_synapses)\n",
      "# intersect = np.intersect1d(pre_out, cell.ff_synapses)\n",
      "# print(intersect)\n",
      "# print(\"{}/{}\".format(len(intersect), cell.ff_thr))\n",
      "\n",
      "# print(cell)\n",
      "\n",
      "# cell.parse_ff(post_in_v)\n",
      "# print(cell)"
     ],
     "language": "python",
     "metadata": {},
     "outputs": [],
     "prompt_number": 1028
    },
    {
     "cell_type": "code",
     "collapsed": false,
     "input": [
      "# col = Column(0, 0, n_cells, n_ff, n_fb, thr)"
     ],
     "language": "python",
     "metadata": {},
     "outputs": [],
     "prompt_number": 1029
    },
    {
     "cell_type": "code",
     "collapsed": false,
     "input": [
      "# print(col)\n",
      "# pre_out = np.random.choice(np.arange(2**10), size=int(n_ff * thr * 10.0), replace=False)\n",
      "# print(len(pre_out))\n",
      "# col.update(pre_out)\n",
      "# for c in col.cells:\n",
      "#     print(c)\n",
      "\n",
      "# print(col)"
     ],
     "language": "python",
     "metadata": {},
     "outputs": [],
     "prompt_number": 1030
    },
    {
     "cell_type": "code",
     "collapsed": false,
     "input": [
      "layer_id = 0\n",
      "max_active_cols = 3\n",
      "num_cols = 2**5\n",
      "n_ff = 2**10\n",
      "n_fb = 2**10\n",
      "thr = 0.05\n",
      "n_cells = 2**4\n",
      "cell_config = {}\n",
      "cell_config['num_ff_per_cell'] = n_ff\n",
      "cell_config['num_fb_per_cell'] = n_fb\n",
      "cell_config['thresh_per_cell'] = thr\n",
      "cell_config['random_activation'] = 0\n",
      "\n",
      "lyr = Layer(layer_id, max_active_cols, num_cols, n_cells, cell_config)"
     ],
     "language": "python",
     "metadata": {},
     "outputs": [],
     "prompt_number": 1031
    },
    {
     "cell_type": "code",
     "collapsed": false,
     "input": [
      "pre_out = np.random.choice(np.arange(2**10), size=int(n_ff * thr), replace=False)\n",
      "print(len(pre_out))"
     ],
     "language": "python",
     "metadata": {},
     "outputs": [
      {
       "output_type": "stream",
       "stream": "stdout",
       "text": [
        "51\n"
       ]
      }
     ],
     "prompt_number": 1032
    },
    {
     "cell_type": "code",
     "collapsed": false,
     "input": [
      "# print(lyr)\n",
      "for i in range(1000):\n",
      "    lyr.update(pre_out)\n",
      "plt.figure()\n",
      "plt.imshow(lyr.to_matrix())\n",
      "plt.show()\n",
      "# print(lyr)"
     ],
     "language": "python",
     "metadata": {},
     "outputs": []
    },
    {
     "cell_type": "code",
     "collapsed": false,
     "input": [
      "for i in range(10):\n",
      "    ffs = lyr.columns[i].cells[lyr.columns[i].max_active].ff_synapses\n",
      "    intr = np.intersect1d(pre_out, ffs)\n",
      "    print(ffs)\n",
      "    print(lyr.columns[i].cells[lyr.columns[i].max_active].ff_syn_life)\n",
      "    print(intr)"
     ],
     "language": "python",
     "metadata": {},
     "outputs": []
    },
    {
     "cell_type": "code",
     "collapsed": false,
     "input": [],
     "language": "python",
     "metadata": {},
     "outputs": [],
     "prompt_number": 1003
    },
    {
     "cell_type": "code",
     "collapsed": false,
     "input": [],
     "language": "python",
     "metadata": {},
     "outputs": []
    },
    {
     "cell_type": "code",
     "collapsed": false,
     "input": [],
     "language": "python",
     "metadata": {},
     "outputs": []
    },
    {
     "cell_type": "code",
     "collapsed": false,
     "input": [],
     "language": "python",
     "metadata": {},
     "outputs": []
    }
   ],
   "metadata": {}
  }
 ]
}