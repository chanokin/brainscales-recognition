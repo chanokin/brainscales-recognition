{
 "metadata": {
  "name": "",
  "signature": "sha256:8c6d0feec791fe068f18ffb1851507ad5991cc29c571708ab44f682a0dbf1ff6"
 },
 "nbformat": 3,
 "nbformat_minor": 0,
 "worksheets": [
  {
   "cells": [
    {
     "cell_type": "code",
     "collapsed": false,
     "input": [
      "%matplotlib inline\n",
      "from __future__ import (print_function,\n",
      "                        unicode_literals,\n",
      "                        division)\n",
      "from future.builtins import str, open, range, dict\n",
      "import matplotlib\n",
      "from mpl_toolkits.axes_grid1 import make_axes_locatable\n",
      "import numpy as np\n",
      "import matplotlib.pyplot as plt\n",
      "from pprint import pprint\n",
      "import sys\n",
      "from matplotlib import gridspec\n",
      "\n",
      "class Cell(object):\n",
      "    def __init__(self, num_in_ff, num_in_fb, thresh):\n",
      "        self.n_in_ff = num_in_ff\n",
      "        self.n_in_fb = num_in_fb\n",
      "        self.thr = thresh\n",
      "        self.ff_count = 0\n",
      "    \n",
      "    def is_active(self):\n",
      "        if self.ff_count >= self.thresh:\n",
      "            return True\n",
      "        return False\n",
      "\n",
      "class Column(object):\n",
      "    def __init__(self, num_cells, num_ff_per_cell, num_fb_per_cell, max_active, thresh):\n",
      "        self.n_cells = num_cells\n",
      "        self.n_ff = num_ff_per_cell\n",
      "        self.n_fb = num_fb_per_cell\n",
      "        self.max_active = max_active\n",
      "        \n",
      "        self.cells = [Cell(num_ff_per_cell, num_fb_per_cellm, thresh) for _ in range(num_cells)]\n",
      "        self.active = []\n",
      "    \n",
      "    def activate(self):\n",
      "        self.active[:] = [i for i in range(self.n_cells) if self.cells[i].is_active()]\n",
      "        \n",
      "    "
     ],
     "language": "python",
     "metadata": {},
     "outputs": [
      {
       "ename": "SyntaxError",
       "evalue": "invalid syntax (<ipython-input-8-7132344cd8c0>, line 31)",
       "output_type": "pyerr",
       "traceback": [
        "\u001b[0;36m  File \u001b[0;32m\"<ipython-input-8-7132344cd8c0>\"\u001b[0;36m, line \u001b[0;32m31\u001b[0m\n\u001b[0;31m    for cell\u001b[0m\n\u001b[0m            ^\u001b[0m\n\u001b[0;31mSyntaxError\u001b[0m\u001b[0;31m:\u001b[0m invalid syntax\n"
       ]
      }
     ],
     "prompt_number": 8
    },
    {
     "cell_type": "code",
     "collapsed": false,
     "input": [
      "col = Column(10, 3, 1, 1, 5)"
     ],
     "language": "python",
     "metadata": {},
     "outputs": [
      {
       "ename": "TypeError",
       "evalue": "__init__() takes exactly 5 arguments (6 given)",
       "output_type": "pyerr",
       "traceback": [
        "\u001b[0;31m---------------------------------------------------------------------------\u001b[0m\n\u001b[0;31mTypeError\u001b[0m                                 Traceback (most recent call last)",
        "\u001b[0;32m<ipython-input-9-1e9b8aa55af5>\u001b[0m in \u001b[0;36m<module>\u001b[0;34m()\u001b[0m\n\u001b[0;32m----> 1\u001b[0;31m \u001b[0mcol\u001b[0m \u001b[0;34m=\u001b[0m \u001b[0mColumn\u001b[0m\u001b[0;34m(\u001b[0m\u001b[0;36m10\u001b[0m\u001b[0;34m,\u001b[0m \u001b[0;36m3\u001b[0m\u001b[0;34m,\u001b[0m \u001b[0;36m1\u001b[0m\u001b[0;34m,\u001b[0m \u001b[0;36m1\u001b[0m\u001b[0;34m,\u001b[0m \u001b[0;36m5\u001b[0m\u001b[0;34m)\u001b[0m\u001b[0;34m\u001b[0m\u001b[0m\n\u001b[0m",
        "\u001b[0;31mTypeError\u001b[0m: __init__() takes exactly 5 arguments (6 given)"
       ]
      }
     ],
     "prompt_number": 9
    },
    {
     "cell_type": "code",
     "collapsed": false,
     "input": [],
     "language": "python",
     "metadata": {},
     "outputs": []
    }
   ],
   "metadata": {}
  }
 ]
}