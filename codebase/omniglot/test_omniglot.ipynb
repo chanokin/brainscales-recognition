{
 "metadata": {
  "name": "",
  "signature": "sha256:49dcacc7b6a2db680eeae8e8aabac168ccbcdecc042f0d77a31a9f7d7b870795"
 },
 "nbformat": 3,
 "nbformat_minor": 0,
 "worksheets": [
  {
   "cells": [
    {
     "cell_type": "code",
     "collapsed": false,
     "input": [
      "%matplotlib inline\n",
      "\n",
      "import matplotlib.pyplot as plt\n",
      "import numpy as np\n",
      "import scipy\n",
      "from scipy import misc as scipy_misc\n",
      "from scipy import ndimage\n",
      "import sys\n",
      "import os\n",
      "import zipfile\n",
      "from mpl_toolkits.axes_grid1 import make_axes_locatable\n",
      "import glob\n"
     ],
     "language": "python",
     "metadata": {},
     "outputs": [],
     "prompt_number": 295
    },
    {
     "cell_type": "code",
     "collapsed": false,
     "input": [
      "source_path = './python/images_background.zip'"
     ],
     "language": "python",
     "metadata": {},
     "outputs": [],
     "prompt_number": 277
    },
    {
     "cell_type": "code",
     "collapsed": false,
     "input": [
      "def extract_to_dict(input_path, file_depth=4, threshold=50):\n",
      "    BASE, ALPHA, CHAR = range(3)\n",
      "    \n",
      "    zip_file = zipfile.ZipFile(input_path)\n",
      "    d = {}\n",
      "    for name in zip_file.namelist():\n",
      "        split_path = name.split('/')\n",
      "\n",
      "        if len(split_path) != file_depth:\n",
      "            continue\n",
      "            \n",
      "        if split_path[-1] == '':\n",
      "            continue\n",
      "\n",
      "        if split_path[ALPHA] not in d:\n",
      "            d[split_path[ALPHA]] = {}\n",
      "            \n",
      "        if split_path[CHAR] not in d[split_path[ALPHA]]:\n",
      "            d[split_path[ALPHA]][split_path[CHAR]] = []\n",
      "\n",
      "        f = zip_file.open(name)\n",
      "\n",
      "        img = scipy_misc.imread(f).astype('float32')\n",
      "        \n",
      "        # invert image --- so high values mean 255 and low mean 0\n",
      "        hi = np.where(img > threshold)\n",
      "        lo = np.where(img <= threshold)\n",
      "        img[lo] = 255\n",
      "        img[hi] = 0\n",
      "        \n",
      "        d[split_path[ALPHA]][split_path[CHAR]].append(img)\n",
      "        \n",
      "    return d\n",
      "\n",
      "\n",
      "def get_center_of_mass(image, threshold=1):\n",
      "    rows, cols = np.where(image > threshold)\n",
      "    return np.mean(rows), np.mean(cols)\n",
      "\n",
      "\n",
      "def center_chars(char_dict, threshold=50):\n",
      "    for alpha in char_dict:\n",
      "        for char_id in char_dict[alpha]:\n",
      "            for idx, img in enumerate(char_dict[alpha][char_id]):\n",
      "                c0, r0 = img.shape\n",
      "                c0 /= 2; r0 /= 2\n",
      "                ri, ci = get_center_of_mass(img)\n",
      "                dr = r0 - ri\n",
      "                dc = c0 - ci\n",
      "                \n",
      "                char_dict[alpha][char_id][idx][:] = \\\n",
      "                    ndimage.interpolation.shift(img, [dr, dc], mode='constant', cval=0)\n",
      "                \n",
      "                whr = np.where(char_dict[alpha][char_id][idx] > threshold)\n",
      "                char_dict[alpha][char_id][idx][whr] = 255\n",
      "                \n",
      "                whr = np.where(char_dict[alpha][char_id][idx] <= threshold)\n",
      "                char_dict[alpha][char_id][idx][whr] = 0\n",
      "\n",
      "                \n",
      "def normalize_pixels(char_dict, max_val=1000):\n",
      "    for alpha in char_dict:\n",
      "        for char_id in char_dict[alpha]:\n",
      "            for idx, img in enumerate(char_dict[alpha][char_id]):\n",
      "                minv = img.min()\n",
      "                maxv = img.max()\n",
      "                \n",
      "                char_dict[alpha][char_id][idx][:] = \\\n",
      "                    (char_dict[alpha][char_id][idx] - minv)/(maxv - minv)\n",
      "\n",
      "#                 char_dict[alpha][char_id][idx] /= \\\n",
      "#                     char_dict[alpha][char_id][idx].sum()\n",
      "                \n",
      "#                 char_dict[alpha][char_id][idx] *= max_val\n"
     ],
     "language": "python",
     "metadata": {},
     "outputs": [],
     "prompt_number": 287
    },
    {
     "cell_type": "code",
     "collapsed": false,
     "input": [
      "\n"
     ],
     "language": "python",
     "metadata": {},
     "outputs": [],
     "prompt_number": 287
    },
    {
     "cell_type": "code",
     "collapsed": false,
     "input": [],
     "language": "python",
     "metadata": {},
     "outputs": [],
     "prompt_number": 287
    },
    {
     "cell_type": "code",
     "collapsed": false,
     "input": [
      "ALPHA_IDX = 3\n",
      "CH_IDX = 9\n",
      "SAMPLE_IDX = 10\n",
      "\n",
      "alphas = extract_to_dict(source_path)\n",
      "\n",
      "a0 = alphas.keys()[ALPHA_IDX]\n",
      "ch0 = alphas[a0].keys()[CH_IDX]\n",
      "print(a0, ch0)\n",
      "print(len(alphas[a0][ch0]))\n",
      "original = alphas[a0][ch0][SAMPLE_IDX].copy()"
     ],
     "language": "python",
     "metadata": {},
     "outputs": [
      {
       "output_type": "stream",
       "stream": "stdout",
       "text": [
        "('Japanese_(katakana)', 'character05')\n",
        "20\n"
       ]
      }
     ],
     "prompt_number": 288
    },
    {
     "cell_type": "code",
     "collapsed": false,
     "input": [],
     "language": "python",
     "metadata": {},
     "outputs": [],
     "prompt_number": 288
    },
    {
     "cell_type": "code",
     "collapsed": false,
     "input": [
      "fig = plt.figure()\n",
      "ax = plt.subplot(1, 1, 1)\n",
      "im = plt.imshow(original, cmap='Greys_r')\n",
      "divider = make_axes_locatable(ax)\n",
      "cax = divider.append_axes(\"right\", size=\"5%\", pad=0.05)\n",
      "plt.colorbar(im, cax=cax)\n",
      "plt.show()"
     ],
     "language": "python",
     "metadata": {},
     "outputs": [
      {
       "metadata": {},
       "output_type": "display_data",
       "png": "[encoded data removed]",
       "text": [
        "<Figure size 600x400 with 2 Axes>"
       ]
      }
     ],
     "prompt_number": 289
    },
    {
     "cell_type": "code",
     "collapsed": false,
     "input": [],
     "language": "python",
     "metadata": {},
     "outputs": [],
     "prompt_number": 289
    },
    {
     "cell_type": "code",
     "collapsed": false,
     "input": [
      "center_chars(alphas)"
     ],
     "language": "python",
     "metadata": {},
     "outputs": [],
     "prompt_number": 290
    },
    {
     "cell_type": "code",
     "collapsed": false,
     "input": [
      "fig = plt.figure(figsize=(10, 5))\n",
      "ax = plt.subplot(1, 2, 1)\n",
      "ax.set_title('original')\n",
      "im = plt.imshow(original, cmap='Greys_r', vmin=0, vmax=255)\n",
      "divider = make_axes_locatable(ax)\n",
      "cax = divider.append_axes(\"right\", size=\"5%\", pad=0.05)\n",
      "plt.colorbar(im, cax=cax)\n",
      "\n",
      "ax = plt.subplot(1, 2, 2)\n",
      "ax.set_title('centered')\n",
      "im = plt.imshow(alphas[a0][ch0][SAMPLE_IDX], cmap='Greys_r', vmin=0, vmax=255)\n",
      "divider = make_axes_locatable(ax)\n",
      "cax = divider.append_axes(\"right\", size=\"5%\", pad=0.05)\n",
      "plt.colorbar(im, cax=cax)\n",
      "\n",
      "plt.show()"
     ],
     "language": "python",
     "metadata": {},
     "outputs": [
      {
       "metadata": {},
       "output_type": "display_data",
       "png": "[encoded data removed]",
       "text": [
        "<Figure size 1000x500 with 4 Axes>"
       ]
      }
     ],
     "prompt_number": 291
    },
    {
     "cell_type": "code",
     "collapsed": false,
     "input": [],
     "language": "python",
     "metadata": {},
     "outputs": [],
     "prompt_number": 291
    },
    {
     "cell_type": "code",
     "collapsed": false,
     "input": [
      "normalize_pixels(alphas)"
     ],
     "language": "python",
     "metadata": {},
     "outputs": [],
     "prompt_number": 292
    },
    {
     "cell_type": "code",
     "collapsed": false,
     "input": [
      "fig = plt.figure(figsize=(10, 5))\n",
      "ax = plt.subplot(1, 2, 1)\n",
      "ax.set_title('original')\n",
      "im = plt.imshow(original, cmap='Greys_r', vmin=0, vmax=255)\n",
      "divider = make_axes_locatable(ax)\n",
      "cax = divider.append_axes(\"right\", size=\"5%\", pad=0.05)\n",
      "plt.colorbar(im, cax=cax)\n",
      "\n",
      "ax = plt.subplot(1, 2, 2)\n",
      "ax.set_title('centered')\n",
      "im = plt.imshow(alphas[a0][ch0][SAMPLE_IDX], cmap='Greys_r')\n",
      "divider = make_axes_locatable(ax)\n",
      "cax = divider.append_axes(\"right\", size=\"5%\", pad=0.05)\n",
      "plt.colorbar(im, cax=cax)\n",
      "\n",
      "\n",
      "plt.show()"
     ],
     "language": "python",
     "metadata": {},
     "outputs": [
      {
       "metadata": {},
       "output_type": "display_data",
       "png": "[encoded data removed]",
       "text": [
        "<Figure size 1000x500 with 4 Axes>"
       ]
      }
     ],
     "prompt_number": 293
    },
    {
     "cell_type": "code",
     "collapsed": false,
     "input": [],
     "language": "python",
     "metadata": {},
     "outputs": [],
     "prompt_number": 293
    },
    {
     "cell_type": "code",
     "collapsed": false,
     "input": [
      "print(alphas[a0][ch0][SAMPLE_IDX].max())"
     ],
     "language": "python",
     "metadata": {},
     "outputs": [
      {
       "output_type": "stream",
       "stream": "stdout",
       "text": [
        "1.0\n"
       ]
      }
     ],
     "prompt_number": 294
    },
    {
     "cell_type": "code",
     "collapsed": false,
     "input": [],
     "language": "python",
     "metadata": {},
     "outputs": [],
     "prompt_number": 294
    },
    {
     "cell_type": "code",
     "collapsed": false,
     "input": [
      "alphas = {}\n",
      "for set_name in glob.glob('./python/*.zip'):\n",
      "    np_name = '{}_normalized.npz'.format(set_name[:-4])\n",
      "    alphas.clear()\n",
      "    alphas = extract_to_dict(set_name)\n",
      "    center_chars(alphas)\n",
      "    normalize_pixels(alphas)\n",
      "    \n",
      "    np.savez_compressed(np_name, **alphas)"
     ],
     "language": "python",
     "metadata": {},
     "outputs": [],
     "prompt_number": 299
    },
    {
     "cell_type": "code",
     "collapsed": false,
     "input": [],
     "language": "python",
     "metadata": {},
     "outputs": [],
     "prompt_number": 299
    },
    {
     "cell_type": "code",
     "collapsed": false,
     "input": [],
     "language": "python",
     "metadata": {},
     "outputs": [],
     "prompt_number": 299
    },
    {
     "cell_type": "code",
     "collapsed": false,
     "input": [
      "source_path = './python/images_background_normalized.npz'\n",
      "d = np.load(source_path)\n",
      "data = {}\n",
      "for k in d:\n",
      "    data[k] = d[k].item()"
     ],
     "language": "python",
     "metadata": {},
     "outputs": [],
     "prompt_number": 310
    },
    {
     "cell_type": "code",
     "collapsed": false,
     "input": [
      "print(data.keys())"
     ],
     "language": "python",
     "metadata": {},
     "outputs": [
      {
       "output_type": "stream",
       "stream": "stdout",
       "text": [
        "['Alphabet_of_the_Magi', 'Cyrillic', 'Gujarati', 'Japanese_(katakana)', 'Sanskrit', 'Japanese_(hiragana)', 'Korean', 'Mkhedruli_(Georgian)', 'Balinese', 'Latin', 'Blackfoot_(Canadian_Aboriginal_Syllabics)', 'Grantha', 'Asomtavruli_(Georgian)', 'Burmese_(Myanmar)', 'Armenian', 'Bengali', 'Anglo-Saxon_Futhorc', 'Tifinagh', 'Ojibwe_(Canadian_Aboriginal_Syllabics)', 'Braille', 'Greek', 'Tagalog', 'N_Ko', 'Early_Aramaic', 'Arcadian', 'Malay_(Jawi_-_Arabic)', 'Inuktitut_(Canadian_Aboriginal_Syllabics)', 'Futurama', 'Hebrew', 'Syriac_(Estrangelo)']\n"
       ]
      }
     ],
     "prompt_number": 311
    },
    {
     "cell_type": "code",
     "collapsed": false,
     "input": [
      "\n",
      "plt.figure()\n",
      "ax = plt.subplot(1, 1, 1)\n",
      "ax.set_title('centered')\n",
      "im = plt.imshow(data[a0][ch0][SAMPLE_IDX], cmap='Greys_r')\n",
      "divider = make_axes_locatable(ax)\n",
      "cax = divider.append_axes(\"right\", size=\"5%\", pad=0.05)\n",
      "plt.colorbar(im, cax=cax)\n",
      "plt.show()"
     ],
     "language": "python",
     "metadata": {},
     "outputs": [
      {
       "metadata": {},
       "output_type": "display_data",
       "png": "[encoded data removed]",
       "text": [
        "<Figure size 600x400 with 2 Axes>"
       ]
      }
     ],
     "prompt_number": 317
    },
    {
     "cell_type": "code",
     "collapsed": false,
     "input": [],
     "language": "python",
     "metadata": {},
     "outputs": [],
     "prompt_number": 317
    },
    {
     "cell_type": "code",
     "collapsed": false,
     "input": [],
     "language": "python",
     "metadata": {},
     "outputs": [],
     "prompt_number": 317
    },
    {
     "cell_type": "code",
     "collapsed": false,
     "input": [
      "def test_params(a, b=1, c=2, d=3):\n",
      "    print(a, b, c, d)\n",
      "    "
     ],
     "language": "python",
     "metadata": {},
     "outputs": [],
     "prompt_number": 318
    },
    {
     "cell_type": "code",
     "collapsed": false,
     "input": [
      "pd = {'a': 0, 'b': 10}\n",
      "test_params(**pd)"
     ],
     "language": "python",
     "metadata": {},
     "outputs": [
      {
       "output_type": "stream",
       "stream": "stdout",
       "text": [
        "(0, 10, 2, 3)\n"
       ]
      }
     ],
     "prompt_number": 322
    },
    {
     "cell_type": "code",
     "collapsed": false,
     "input": [],
     "language": "python",
     "metadata": {},
     "outputs": []
    }
   ],
   "metadata": {}
  }
 ]
}